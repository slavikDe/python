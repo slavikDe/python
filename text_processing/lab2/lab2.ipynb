{
 "cells": [
  {
   "cell_type": "markdown",
   "metadata": {},
   "source": [
    "Зчитати файл doc2. Вважати кожен рядок окремим документом корпусу. Виконати попередню обробку корпусу.\n",
    "\n",
    "\n"
   ]
  },
  {
   "cell_type": "code",
   "execution_count": 84,
   "metadata": {},
   "outputs": [],
   "source": [
    "import sklearn \n",
    "import numpy as np\n",
    "import pandas as pd\n",
    "import matplotlib.pyplot as plt\n",
    "\n",
    "from sklearn.model_selection import train_test_split"
   ]
  },
  {
   "cell_type": "code",
   "execution_count": 85,
   "metadata": {},
   "outputs": [
    {
     "data": {
      "text/plain": [
       "['Combine all of the marinade ingredients except the orange juice in a blender or food processor.\\n',\n",
       " 'The internet is incredibly competitive for businesses. \\n',\n",
       " 'A melting pot of cultural influences, Algeria is a highly underrated North African tourist destination.\\n',\n",
       " 'Add the orange juice and puree until combined%^%.\\n',\n",
       " 'Predominantly Roman, take your pick %$ from our list of the eight coolest ancient ruins to visit in Algeria.\\n',\n",
       " 'Many of the courses are project-based, too, helping you learn how to develop a well-designed marketing strategy by actually doing it.\\n',\n",
       " 'This National Park is a recent addition to the national parks of Algeria.']"
      ]
     },
     "execution_count": 85,
     "metadata": {},
     "output_type": "execute_result"
    }
   ],
   "source": [
    "file = open('./doc2.txt', 'r')\n",
    "text = []\n",
    "for line in file.readlines():\n",
    "    text.append(line)\n",
    "text\n"
   ]
  },
  {
   "cell_type": "code",
   "execution_count": 86,
   "metadata": {},
   "outputs": [
    {
     "name": "stdout",
     "output_type": "stream",
     "text": [
      "['Combine all of the marinade ingredients except the orange juice in a blender or food processor\\n', 'The internet is incredibly competitive for businesses \\n', 'A melting pot of cultural influences Algeria is a highly underrated North African tourist destination\\n', 'Add the orange juice and puree until combined\\n', 'Predominantly Roman take your pick  from our list of the eight coolest ancient ruins to visit in Algeria\\n', 'Many of the courses are projectbased too helping you learn how to develop a welldesigned marketing strategy by actually doing it\\n', 'This National Park is a recent addition to the national parks of Algeria']\n"
     ]
    }
   ],
   "source": [
    "import re\n",
    "\n",
    "text = [re.sub(r'[^\\w\\s]', '', line) for line in text]\n",
    "\n",
    "print(text)"
   ]
  },
  {
   "cell_type": "markdown",
   "metadata": {},
   "source": []
  },
  {
   "cell_type": "markdown",
   "metadata": {},
   "source": [
    "# 1)Представити корпус як модель «Сумка n-грам», взяти біграми. Вивести вектор для orange juice."
   ]
  },
  {
   "cell_type": "code",
   "execution_count": 87,
   "metadata": {},
   "outputs": [
    {
     "data": {
      "text/html": [
       "<div>\n",
       "<style scoped>\n",
       "    .dataframe tbody tr th:only-of-type {\n",
       "        vertical-align: middle;\n",
       "    }\n",
       "\n",
       "    .dataframe tbody tr th {\n",
       "        vertical-align: top;\n",
       "    }\n",
       "\n",
       "    .dataframe thead th {\n",
       "        text-align: right;\n",
       "    }\n",
       "</style>\n",
       "<table border=\"1\" class=\"dataframe\">\n",
       "  <thead>\n",
       "    <tr style=\"text-align: right;\">\n",
       "      <th></th>\n",
       "      <th>combine all</th>\n",
       "      <th>all of</th>\n",
       "      <th>of the</th>\n",
       "      <th>the marinade</th>\n",
       "      <th>marinade ingredients</th>\n",
       "      <th>ingredients except</th>\n",
       "      <th>except the</th>\n",
       "      <th>the orange</th>\n",
       "      <th>orange juice</th>\n",
       "      <th>juice in</th>\n",
       "      <th>...</th>\n",
       "      <th>national park</th>\n",
       "      <th>park is</th>\n",
       "      <th>is recent</th>\n",
       "      <th>recent addition</th>\n",
       "      <th>addition to</th>\n",
       "      <th>to the</th>\n",
       "      <th>the national</th>\n",
       "      <th>national parks</th>\n",
       "      <th>parks of</th>\n",
       "      <th>of algeria</th>\n",
       "    </tr>\n",
       "  </thead>\n",
       "  <tbody>\n",
       "    <tr>\n",
       "      <th>0</th>\n",
       "      <td>0</td>\n",
       "      <td>0</td>\n",
       "      <td>0</td>\n",
       "      <td>0</td>\n",
       "      <td>0</td>\n",
       "      <td>1</td>\n",
       "      <td>0</td>\n",
       "      <td>0</td>\n",
       "      <td>0</td>\n",
       "      <td>1</td>\n",
       "      <td>...</td>\n",
       "      <td>0</td>\n",
       "      <td>0</td>\n",
       "      <td>0</td>\n",
       "      <td>0</td>\n",
       "      <td>0</td>\n",
       "      <td>0</td>\n",
       "      <td>0</td>\n",
       "      <td>0</td>\n",
       "      <td>0</td>\n",
       "      <td>0</td>\n",
       "    </tr>\n",
       "    <tr>\n",
       "      <th>1</th>\n",
       "      <td>0</td>\n",
       "      <td>0</td>\n",
       "      <td>0</td>\n",
       "      <td>0</td>\n",
       "      <td>0</td>\n",
       "      <td>0</td>\n",
       "      <td>0</td>\n",
       "      <td>0</td>\n",
       "      <td>0</td>\n",
       "      <td>0</td>\n",
       "      <td>...</td>\n",
       "      <td>0</td>\n",
       "      <td>0</td>\n",
       "      <td>0</td>\n",
       "      <td>0</td>\n",
       "      <td>0</td>\n",
       "      <td>0</td>\n",
       "      <td>0</td>\n",
       "      <td>0</td>\n",
       "      <td>0</td>\n",
       "      <td>0</td>\n",
       "    </tr>\n",
       "    <tr>\n",
       "      <th>2</th>\n",
       "      <td>0</td>\n",
       "      <td>0</td>\n",
       "      <td>0</td>\n",
       "      <td>1</td>\n",
       "      <td>1</td>\n",
       "      <td>0</td>\n",
       "      <td>0</td>\n",
       "      <td>0</td>\n",
       "      <td>0</td>\n",
       "      <td>0</td>\n",
       "      <td>...</td>\n",
       "      <td>0</td>\n",
       "      <td>0</td>\n",
       "      <td>0</td>\n",
       "      <td>1</td>\n",
       "      <td>1</td>\n",
       "      <td>0</td>\n",
       "      <td>0</td>\n",
       "      <td>0</td>\n",
       "      <td>0</td>\n",
       "      <td>0</td>\n",
       "    </tr>\n",
       "    <tr>\n",
       "      <th>3</th>\n",
       "      <td>0</td>\n",
       "      <td>1</td>\n",
       "      <td>0</td>\n",
       "      <td>0</td>\n",
       "      <td>0</td>\n",
       "      <td>0</td>\n",
       "      <td>0</td>\n",
       "      <td>1</td>\n",
       "      <td>0</td>\n",
       "      <td>0</td>\n",
       "      <td>...</td>\n",
       "      <td>0</td>\n",
       "      <td>0</td>\n",
       "      <td>0</td>\n",
       "      <td>0</td>\n",
       "      <td>0</td>\n",
       "      <td>1</td>\n",
       "      <td>0</td>\n",
       "      <td>0</td>\n",
       "      <td>0</td>\n",
       "      <td>0</td>\n",
       "    </tr>\n",
       "    <tr>\n",
       "      <th>4</th>\n",
       "      <td>0</td>\n",
       "      <td>0</td>\n",
       "      <td>0</td>\n",
       "      <td>0</td>\n",
       "      <td>0</td>\n",
       "      <td>0</td>\n",
       "      <td>1</td>\n",
       "      <td>0</td>\n",
       "      <td>0</td>\n",
       "      <td>0</td>\n",
       "      <td>...</td>\n",
       "      <td>0</td>\n",
       "      <td>1</td>\n",
       "      <td>0</td>\n",
       "      <td>0</td>\n",
       "      <td>0</td>\n",
       "      <td>0</td>\n",
       "      <td>1</td>\n",
       "      <td>0</td>\n",
       "      <td>0</td>\n",
       "      <td>1</td>\n",
       "    </tr>\n",
       "    <tr>\n",
       "      <th>5</th>\n",
       "      <td>1</td>\n",
       "      <td>0</td>\n",
       "      <td>0</td>\n",
       "      <td>0</td>\n",
       "      <td>0</td>\n",
       "      <td>0</td>\n",
       "      <td>0</td>\n",
       "      <td>0</td>\n",
       "      <td>1</td>\n",
       "      <td>0</td>\n",
       "      <td>...</td>\n",
       "      <td>0</td>\n",
       "      <td>0</td>\n",
       "      <td>1</td>\n",
       "      <td>0</td>\n",
       "      <td>0</td>\n",
       "      <td>0</td>\n",
       "      <td>0</td>\n",
       "      <td>1</td>\n",
       "      <td>1</td>\n",
       "      <td>0</td>\n",
       "    </tr>\n",
       "    <tr>\n",
       "      <th>6</th>\n",
       "      <td>0</td>\n",
       "      <td>0</td>\n",
       "      <td>1</td>\n",
       "      <td>0</td>\n",
       "      <td>0</td>\n",
       "      <td>0</td>\n",
       "      <td>0</td>\n",
       "      <td>0</td>\n",
       "      <td>0</td>\n",
       "      <td>0</td>\n",
       "      <td>...</td>\n",
       "      <td>1</td>\n",
       "      <td>0</td>\n",
       "      <td>0</td>\n",
       "      <td>0</td>\n",
       "      <td>0</td>\n",
       "      <td>0</td>\n",
       "      <td>0</td>\n",
       "      <td>0</td>\n",
       "      <td>0</td>\n",
       "      <td>0</td>\n",
       "    </tr>\n",
       "  </tbody>\n",
       "</table>\n",
       "<p>7 rows × 82 columns</p>\n",
       "</div>"
      ],
      "text/plain": [
       "   combine all  all of  of the  the marinade  marinade ingredients  \\\n",
       "0            0       0       0             0                     0   \n",
       "1            0       0       0             0                     0   \n",
       "2            0       0       0             1                     1   \n",
       "3            0       1       0             0                     0   \n",
       "4            0       0       0             0                     0   \n",
       "5            1       0       0             0                     0   \n",
       "6            0       0       1             0                     0   \n",
       "\n",
       "   ingredients except  except the  the orange  orange juice  juice in  ...  \\\n",
       "0                   1           0           0             0         1  ...   \n",
       "1                   0           0           0             0         0  ...   \n",
       "2                   0           0           0             0         0  ...   \n",
       "3                   0           0           1             0         0  ...   \n",
       "4                   0           1           0             0         0  ...   \n",
       "5                   0           0           0             1         0  ...   \n",
       "6                   0           0           0             0         0  ...   \n",
       "\n",
       "   national park  park is  is recent  recent addition  addition to  to the  \\\n",
       "0              0        0          0                0            0       0   \n",
       "1              0        0          0                0            0       0   \n",
       "2              0        0          0                1            1       0   \n",
       "3              0        0          0                0            0       1   \n",
       "4              0        1          0                0            0       0   \n",
       "5              0        0          1                0            0       0   \n",
       "6              1        0          0                0            0       0   \n",
       "\n",
       "   the national  national parks  parks of  of algeria  \n",
       "0             0               0         0           0  \n",
       "1             0               0         0           0  \n",
       "2             0               0         0           0  \n",
       "3             0               0         0           0  \n",
       "4             1               0         0           1  \n",
       "5             0               1         1           0  \n",
       "6             0               0         0           0  \n",
       "\n",
       "[7 rows x 82 columns]"
      ]
     },
     "execution_count": 87,
     "metadata": {},
     "output_type": "execute_result"
    }
   ],
   "source": [
    "from sklearn.feature_extraction.text import CountVectorizer\n",
    "bv = CountVectorizer(ngram_range=(2, 2))\n",
    "bv_matrix = bv.fit_transform(text)\n",
    "bv_matrix = bv_matrix.toarray()\n",
    "df = pd.DataFrame(bv_matrix, columns=bv.vocabulary_)\n",
    "df\n"
   ]
  },
  {
   "cell_type": "code",
   "execution_count": 88,
   "metadata": {},
   "outputs": [
    {
     "name": "stdout",
     "output_type": "stream",
     "text": [
      "0    0\n",
      "1    0\n",
      "2    0\n",
      "3    0\n",
      "4    0\n",
      "5    1\n",
      "6    0\n",
      "Name: orange juice, dtype: int64\n"
     ]
    }
   ],
   "source": [
    "print(df['orange juice'])"
   ]
  },
  {
   "cell_type": "markdown",
   "metadata": {},
   "source": [
    "# 2)Представити корпус як модель TF-IDF. Кластеризувати документи за допомогою ієрархічної агломераційної кластеризації."
   ]
  },
  {
   "cell_type": "code",
   "execution_count": 89,
   "metadata": {},
   "outputs": [
    {
     "name": "stderr",
     "output_type": "stream",
     "text": [
      "<>:10: SyntaxWarning: invalid escape sequence '\\C'\n",
      "<>:10: SyntaxWarning: invalid escape sequence '\\C'\n",
      "<>:10: SyntaxWarning: invalid escape sequence '\\C'\n",
      "<>:10: SyntaxWarning: invalid escape sequence '\\C'\n",
      "/tmp/ipykernel_36078/3545207456.py:10: SyntaxWarning: invalid escape sequence '\\C'\n",
      "  pd.DataFrame(links, columns=['Document\\Cluster 1', 'Document\\Cluster 2', 'Distance', 'Cluster Size'], dtype='object')\n",
      "/tmp/ipykernel_36078/3545207456.py:10: SyntaxWarning: invalid escape sequence '\\C'\n",
      "  pd.DataFrame(links, columns=['Document\\Cluster 1', 'Document\\Cluster 2', 'Distance', 'Cluster Size'], dtype='object')\n"
     ]
    },
    {
     "data": {
      "text/html": [
       "<div>\n",
       "<style scoped>\n",
       "    .dataframe tbody tr th:only-of-type {\n",
       "        vertical-align: middle;\n",
       "    }\n",
       "\n",
       "    .dataframe tbody tr th {\n",
       "        vertical-align: top;\n",
       "    }\n",
       "\n",
       "    .dataframe thead th {\n",
       "        text-align: right;\n",
       "    }\n",
       "</style>\n",
       "<table border=\"1\" class=\"dataframe\">\n",
       "  <thead>\n",
       "    <tr style=\"text-align: right;\">\n",
       "      <th></th>\n",
       "      <th>Document\\Cluster 1</th>\n",
       "      <th>Document\\Cluster 2</th>\n",
       "      <th>Distance</th>\n",
       "      <th>Cluster Size</th>\n",
       "    </tr>\n",
       "  </thead>\n",
       "  <tbody>\n",
       "    <tr>\n",
       "      <th>0</th>\n",
       "      <td>0.0</td>\n",
       "      <td>3.0</td>\n",
       "      <td>1.200142</td>\n",
       "      <td>2.0</td>\n",
       "    </tr>\n",
       "    <tr>\n",
       "      <th>1</th>\n",
       "      <td>4.0</td>\n",
       "      <td>5.0</td>\n",
       "      <td>1.373473</td>\n",
       "      <td>2.0</td>\n",
       "    </tr>\n",
       "    <tr>\n",
       "      <th>2</th>\n",
       "      <td>1.0</td>\n",
       "      <td>2.0</td>\n",
       "      <td>1.414214</td>\n",
       "      <td>2.0</td>\n",
       "    </tr>\n",
       "    <tr>\n",
       "      <th>3</th>\n",
       "      <td>6.0</td>\n",
       "      <td>9.0</td>\n",
       "      <td>1.414214</td>\n",
       "      <td>3.0</td>\n",
       "    </tr>\n",
       "    <tr>\n",
       "      <th>4</th>\n",
       "      <td>8.0</td>\n",
       "      <td>10.0</td>\n",
       "      <td>1.414928</td>\n",
       "      <td>5.0</td>\n",
       "    </tr>\n",
       "    <tr>\n",
       "      <th>5</th>\n",
       "      <td>7.0</td>\n",
       "      <td>11.0</td>\n",
       "      <td>1.423155</td>\n",
       "      <td>7.0</td>\n",
       "    </tr>\n",
       "  </tbody>\n",
       "</table>\n",
       "</div>"
      ],
      "text/plain": [
       "  Document\\Cluster 1 Document\\Cluster 2  Distance Cluster Size\n",
       "0                0.0                3.0  1.200142          2.0\n",
       "1                4.0                5.0  1.373473          2.0\n",
       "2                1.0                2.0  1.414214          2.0\n",
       "3                6.0                9.0  1.414214          3.0\n",
       "4                8.0               10.0  1.414928          5.0\n",
       "5                7.0               11.0  1.423155          7.0"
      ]
     },
     "execution_count": 89,
     "metadata": {},
     "output_type": "execute_result"
    }
   ],
   "source": [
    "from sklearn.feature_extraction.text import TfidfTransformer\n",
    "from sklearn.metrics.pairwise import cosine_similarity\n",
    "from scipy.cluster.hierarchy import dendrogram, linkage\n",
    "\n",
    "\n",
    "tt = TfidfTransformer(norm='l2', use_idf=True)\n",
    "tt_matrix = tt.fit_transform(bv_matrix)\n",
    "similarity_matrix = cosine_similarity(tt_matrix)\n",
    "links = linkage(similarity_matrix, 'complete',)\n",
    "pd.DataFrame(links, columns=['Document\\Cluster 1', 'Document\\Cluster 2', 'Distance', 'Cluster Size'], dtype='object')\n",
    "\n",
    "\n",
    "# tt_matrix = tt_matrix.toarray()\n",
    "# df = pd.DataFrame(np.round(tt_matrix, 2), columns=bv.vocabulary_)\n",
    "# df"
   ]
  },
  {
   "cell_type": "code",
   "execution_count": 90,
   "metadata": {},
   "outputs": [
    {
     "data": {
      "text/plain": [
       "{'icoord': [[5.0, 5.0, 15.0, 15.0],\n",
       "  [25.0, 25.0, 35.0, 35.0],\n",
       "  [55.0, 55.0, 65.0, 65.0],\n",
       "  [45.0, 45.0, 60.0, 60.0],\n",
       "  [30.0, 30.0, 52.5, 52.5],\n",
       "  [10.0, 10.0, 41.25, 41.25]],\n",
       " 'dcoord': [[0.0, 1.2001417727093118, 1.2001417727093118, 0.0],\n",
       "  [0.0, 1.3734728329522183, 1.3734728329522183, 0.0],\n",
       "  [0.0, 1.4142135623730951, 1.4142135623730951, 0.0],\n",
       "  [0.0, 1.4142135623730954, 1.4142135623730954, 1.4142135623730951],\n",
       "  [1.3734728329522183,\n",
       "   1.4149283151965435,\n",
       "   1.4149283151965435,\n",
       "   1.4142135623730954],\n",
       "  [1.2001417727093118,\n",
       "   1.423155136591032,\n",
       "   1.423155136591032,\n",
       "   1.4149283151965435]],\n",
       " 'ivl': ['0', '3', '4', '5', '6', '1', '2'],\n",
       " 'leaves': [0, 3, 4, 5, 6, 1, 2],\n",
       " 'color_list': ['C0', 'C0', 'C0', 'C0', 'C0', 'C0'],\n",
       " 'leaves_color_list': ['C0', 'C0', 'C0', 'C0', 'C0', 'C0', 'C0']}"
      ]
     },
     "execution_count": 90,
     "metadata": {},
     "output_type": "execute_result"
    },
    {
     "data": {
      "image/png": "[encoded data removed]",
      "text/plain": [
       "<Figure size 800x300 with 1 Axes>"
      ]
     },
     "metadata": {},
     "output_type": "display_data"
    }
   ],
   "source": [
    "import matplotlib.pyplot as plt\n",
    "\n",
    "plt.figure(figsize=(8,3))\n",
    "plt.title('Hierarchical Clustering Dendrogram')\n",
    "plt.xlabel('Documents')\n",
    "plt.ylabel('Distance')\n",
    "dendrogram(links)    "
   ]
  },
  {
   "cell_type": "markdown",
   "metadata": {},
   "source": [
    "# 3)Представити корпус як модель FastText. Знайти подібні слова до слів algeria, combine."
   ]
  },
  {
   "cell_type": "code",
   "execution_count": 91,
   "metadata": {},
   "outputs": [
    {
     "name": "stdout",
     "output_type": "stream",
     "text": [
      "[('ingredients', 0.26333531737327576), ('all', 0.2271624058485031), ('visit', 0.19132684171199799), ('incredibly', 0.1615702360868454), ('orange', 0.1593407541513443), ('add', 0.12636229395866394), ('processor', 0.1083197072148323), ('national', 0.10766153782606125), ('puree', 0.10580787062644958), ('or', 0.10327693074941635)]\n",
      "[('combined', 0.7270112633705139), ('our', 0.2200688272714615), ('helping', 0.2109752595424652), ('businesses', 0.2011212855577469), ('the', 0.16935238242149353), ('strategy', 0.1679958552122116), ('it', 0.1576010137796402), ('how', 0.15408572554588318), ('african', 0.15065015852451324), ('courses', 0.14808982610702515)]\n"
     ]
    }
   ],
   "source": [
    "import nltk\n",
    "from gensim.models.fasttext import FastText\n",
    "\n",
    "wpt = nltk.WordPunctTokenizer()\n",
    "tokenized_corpus = [wpt.tokenize(document.lower()) for document in text]  # зменшуємо регістр\n",
    "\n",
    "# Навчання моделі FastText\n",
    "ft_model = FastText(sentences=tokenized_corpus, vector_size=100, window=5, min_count=1, sg=1, epochs=10)\n",
    "\n",
    "# Знаходження подібних слів\n",
    "print(ft_model.wv.most_similar(\"algeria\"))\n",
    "print(ft_model.wv.most_similar(\"combine\"))"
   ]
  }
 ],
 "metadata": {
  "kernelspec": {
   "display_name": ".venv",
   "language": "python",
   "name": "python3"
  },
  "language_info": {
   "codemirror_mode": {
    "name": "ipython",
    "version": 3
   },
   "file_extension": ".py",
   "mimetype": "text/x-python",
   "name": "python",
   "nbconvert_exporter": "python",
   "pygments_lexer": "ipython3",
   "version": "3.12.3"
  }
 },
 "nbformat": 4,
 "nbformat_minor": 2
}
